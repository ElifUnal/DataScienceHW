{
 "cells": [
  {
   "cell_type": "code",
   "execution_count": 8,
   "metadata": {},
   "outputs": [
    {
     "name": "stdout",
     "output_type": "stream",
     "text": [
      "[[list([400, 500, 600, 700, 800, 900, 1000, 1100, 1200, 1300])]\n",
      " [list([20, 25, 30, 35, 40, 45, 50, 55, 60, 65])]\n",
      " [list([800, 1000, 1200, 1400, 1600, 2000, 2200, 2400, 2600])]]\n"
     ]
    }
   ],
   "source": [
    "house_size=[400,500,600,700,800,900,1000,1100,1200,1300]\n",
    "room_size=[20,25,30,35,40,45,50,55,60,65]\n",
    "house_price=[800,1000,1200,1400,1600,2000,2200,2400,2600]\n",
    "array1=np.array([[house_size],[room_size],[house_price]])\n",
    "print(array1)\n"
   ]
  },
  {
   "cell_type": "code",
   "execution_count": 10,
   "metadata": {},
   "outputs": [
    {
     "name": "stdout",
     "output_type": "stream",
     "text": [
      "[[list([400, 500, 600, 700, 800, 900, 1000, 1100, 1200, 1300])\n",
      "  list([20, 25, 30, 35, 40, 45, 50, 55, 60, 65])\n",
      "  list([800, 1000, 1200, 1400, 1600, 2000, 2200, 2400, 2600])]]\n"
     ]
    }
   ],
   "source": [
    "new_array=array1.transpose()\n",
    "print(new_array)"
   ]
  },
  {
   "cell_type": "code",
   "execution_count": 15,
   "metadata": {},
   "outputs": [
    {
     "name": "stdout",
     "output_type": "stream",
     "text": [
      "Shape of Array:  (3, 1)\n"
     ]
    }
   ],
   "source": [
    "print(\"Shape of Array: \",array1.shape)"
   ]
  },
  {
   "cell_type": "code",
   "execution_count": 16,
   "metadata": {},
   "outputs": [
    {
     "name": "stdout",
     "output_type": "stream",
     "text": [
      "[[0. 1. 0. 1. 0.]\n",
      " [1. 1. 1. 1. 1.]\n",
      " [0. 1. 0. 1. 0.]\n",
      " [1. 1. 1. 1. 1.]\n",
      " [0. 1. 0. 1. 0.]\n",
      " [1. 1. 1. 1. 1.]]\n"
     ]
    }
   ],
   "source": [
    "import numpy as np\n",
    "def fonk1(a,b):\n",
    "    arr=np.ones((a,b))\n",
    "    i=0\n",
    "    while i<a:\n",
    "        j=0\n",
    "        while j<b:\n",
    "            if (i%2==0 and j%2==0):\n",
    "                arr[i][j]=0\n",
    "            j=j+1\n",
    "        i=i+1\n",
    "    \n",
    "            \n",
    "    return arr\n",
    "print(fonk1(6,5))"
   ]
  },
  {
   "cell_type": "code",
   "execution_count": null,
   "metadata": {},
   "outputs": [],
   "source": []
  },
  {
   "cell_type": "code",
   "execution_count": null,
   "metadata": {},
   "outputs": [],
   "source": []
  },
  {
   "cell_type": "code",
   "execution_count": null,
   "metadata": {},
   "outputs": [],
   "source": []
  }
 ],
 "metadata": {
  "kernelspec": {
   "display_name": "Python 3",
   "language": "python",
   "name": "python3"
  },
  "language_info": {
   "codemirror_mode": {
    "name": "ipython",
    "version": 3
   },
   "file_extension": ".py",
   "mimetype": "text/x-python",
   "name": "python",
   "nbconvert_exporter": "python",
   "pygments_lexer": "ipython3",
   "version": "3.8.3"
  }
 },
 "nbformat": 4,
 "nbformat_minor": 4
}
