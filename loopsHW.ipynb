{
 "cells": [
  {
   "cell_type": "code",
   "execution_count": 4,
   "metadata": {},
   "outputs": [
    {
     "name": "stdout",
     "output_type": "stream",
     "text": [
      "Enter the number: 6\n",
      "6 x 1 = 6\n",
      "6 x 2 = 12\n",
      "6 x 3 = 18\n",
      "6 x 4 = 24\n",
      "6 x 5 = 30\n",
      "6 x 6 = 36\n",
      "6 x 7 = 42\n",
      "6 x 8 = 48\n",
      "6 x 9 = 54\n",
      "6 x 10 = 60\n"
     ]
    }
   ],
   "source": [
    "sayi=input(\"Enter the number: \")\n",
    "sy=int(sayi)\n",
    "i=1\n",
    "while i<11:\n",
    "    print(sy,\"x\",i,\"=\",i*sy)\n",
    "    i+=1\n"
   ]
  },
  {
   "cell_type": "code",
   "execution_count": 12,
   "metadata": {},
   "outputs": [
    {
     "name": "stdout",
     "output_type": "stream",
     "text": [
      "1\n",
      "8\n",
      "9\n",
      "64\n",
      "25\n",
      "216\n",
      "49\n",
      "512\n",
      "81\n",
      "1000\n",
      "121\n",
      "1728\n",
      "169\n",
      "2744\n",
      "225\n",
      "4096\n",
      "289\n",
      "5832\n",
      "361\n",
      "8000\n"
     ]
    }
   ],
   "source": [
    "empty_list=[1,2,3,4,5,6,7,8,9,10,11,12,13,14,15,16,17,18,19,20]\n",
    "emp=[]\n",
    "for x in empty_list:\n",
    "    if (x%2)==0:\n",
    "        x=pow(x,3)\n",
    "        print(x)\n",
    "    else:\n",
    "        x=pow(x,2)\n",
    "        print(x)"
   ]
  },
  {
   "cell_type": "code",
   "execution_count": 18,
   "metadata": {},
   "outputs": [
    {
     "name": "stdout",
     "output_type": "stream",
     "text": [
      "Enter the word:\n",
      "alfabe\n",
      "ebafla\n"
     ]
    }
   ],
   "source": [
    "\n",
    "deger=input(\"Enter the word:\\n\")\n",
    "print(deger[::-1])"
   ]
  },
  {
   "cell_type": "code",
   "execution_count": 30,
   "metadata": {},
   "outputs": [
    {
     "name": "stdout",
     "output_type": "stream",
     "text": [
      "Even number:\n",
      " [2, 4, 6, 8, 10, 12, 14, 16, 18, 20, 22, 24, 26, 28, 30, 32, 34, 36, 38, 40, 42, 44, 46, 48, 50, 52, 54, 56, 58, 60, 62, 64, 66, 68, 70, 72, 74, 76, 78, 80, 82, 84, 86, 88, 90, 92, 94, 96, 98, 100, 102, 104, 106, 108, 110, 112, 114, 116, 118, 120, 122, 124, 126, 128, 130, 132, 134, 136, 138, 140, 142, 144, 146, 148, 150, 152, 154, 156, 158, 160, 162, 164, 166, 168, 170, 172, 174, 176, 178, 180, 182, 184, 186, 188, 190, 192, 194, 196, 198, 200]\n",
      "----------------------------------------------------\n",
      "----------------------------------------------------\n",
      "Odd numbers:\n",
      " [1, 3, 5, 7, 9, 11, 13, 15, 17, 19, 21, 23, 25, 27, 29, 31, 33, 35, 37, 39, 41, 43, 45, 47, 49, 51, 53, 55, 57, 59, 61, 63, 65, 67, 69, 71, 73, 75, 77, 79, 81, 83, 85, 87, 89, 91, 93, 95, 97, 99, 101, 103, 105, 107, 109, 111, 113, 115, 117, 119, 121, 123, 125, 127, 129, 131, 133, 135, 137, 139, 141, 143, 145, 147, 149, 151, 153, 155, 157, 159, 161, 163, 165, 167, 169, 171, 173, 175, 177, 179, 181, 183, 185, 187, 189, 191, 193, 195, 197, 199]\n"
     ]
    }
   ],
   "source": [
    "even_list=[]\n",
    "odd_list=[]\n",
    "for x in range(1,201):\n",
    "    if (x%2)==0:\n",
    "        even_list.append(x)\n",
    "    else:\n",
    "        odd_list.append(x)\n",
    "print(\"Even numbers:\\n\",even_list)\n",
    "print(\"----------------------------------------------------\\n----------------------------------------------------\")\n",
    "print(\"Odd numbers:\\n\",odd_list)\n",
    "        "
   ]
  },
  {
   "cell_type": "code",
   "execution_count": 4,
   "metadata": {},
   "outputs": [
    {
     "name": "stdout",
     "output_type": "stream",
     "text": [
      "Enter the sequence: 2563335\n",
      "Enter the item: 5\n",
      "5 den listede  2 tane var.\n"
     ]
    }
   ],
   "source": [
    "def count(sequence,item):\n",
    "    for x in set(sequence):\n",
    "        if x==item:\n",
    "            break  \n",
    "    return  print(x,\"den listede \",liste.count(x),\"tane var.\")\n",
    "liste=input(\"Enter the sequence: \")\n",
    "item=input(\"Enter the item: \")\n",
    "count(liste,item)        "
   ]
  },
  {
   "cell_type": "code",
   "execution_count": 1,
   "metadata": {},
   "outputs": [
    {
     "name": "stdout",
     "output_type": "stream",
     "text": [
      "Enter the numbers: 23654\n",
      "20\n"
     ]
    }
   ],
   "source": [
    "\n",
    "def digit_sum(sayi):\n",
    "    toplam=0\n",
    "    for test in str(sayi):\n",
    "        toplam += int(test)\n",
    "    return toplam\n",
    "\n",
    "numbers=input(\"Enter the numbers: \")\n",
    "\n",
    "print(digit_sum(numbers))"
   ]
  },
  {
   "cell_type": "code",
   "execution_count": 8,
   "metadata": {},
   "outputs": [
    {
     "name": "stdout",
     "output_type": "stream",
     "text": [
      "Enter the first number: 10\n",
      "Enter the second number: 5\n",
      "GCF:  5\n",
      "HCF:  10.0\n"
     ]
    }
   ],
   "source": [
    "def gcf(sayi1,sayi2):\n",
    "\n",
    "    for i in range(int((sayi1+sayi2)/2),0,-1):\n",
    "        if sayi1%i == 0 and sayi2%i ==0:\n",
    "\n",
    "            break\n",
    "    return i\n",
    "\n",
    "def hcf(sayi1,sayi2):\n",
    "\n",
    "    okek=(sayi1*sayi2)/obeb(sayi1,sayi2)\n",
    "\n",
    "    return okek\n",
    "sayi=input(\"Enter the first number: \")\n",
    "sayi2=input(\"Enter the second number: \")\n",
    "\n",
    "print(\"GCF: \",gcf(int(sayi),int(sayi2)))\n",
    "print(\"HCF: \",hcf(int(sayi),int(sayi2)))"
   ]
  },
  {
   "cell_type": "code",
   "execution_count": 18,
   "metadata": {},
   "outputs": [
    {
     "name": "stdout",
     "output_type": "stream",
     "text": [
      "fizzfizzfizz\n",
      "buzzbuzzbuzzbuzzbuzz\n",
      "fizzfizzfizz\n",
      "fizzfizzfizz\n",
      "buzzbuzzbuzzbuzzbuzz\n",
      "fizzfizzfizz\n",
      "fizzbuzzfizzbuzzfizzbuzzfizzbuzzfizzbuzzfizzbuzzfizzbuzzfizzbuzzfizzbuzzfizzbuzzfizzbuzzfizzbuzzfizzbuzzfizzbuzzfizzbuzz\n",
      "fizzfizzfizz\n",
      "buzzbuzzbuzzbuzzbuzz\n",
      "fizzfizzfizz\n",
      "buzzbuzzbuzzbuzzbuzz\n",
      "fizzfizzfizz\n",
      "fizzfizzfizz\n",
      "buzzbuzzbuzzbuzzbuzz\n",
      "fizzfizzfizz\n",
      "fizzbuzzfizzbuzzfizzbuzzfizzbuzzfizzbuzzfizzbuzzfizzbuzzfizzbuzzfizzbuzzfizzbuzzfizzbuzzfizzbuzzfizzbuzzfizzbuzzfizzbuzz\n",
      "fizzfizzfizz\n",
      "buzzbuzzbuzzbuzzbuzz\n",
      "fizzfizzfizz\n",
      "buzzbuzzbuzzbuzzbuzz\n",
      "fizzfizzfizz\n",
      "fizzfizzfizz\n",
      "buzzbuzzbuzzbuzzbuzz\n",
      "fizzfizzfizz\n",
      "fizzbuzzfizzbuzzfizzbuzzfizzbuzzfizzbuzzfizzbuzzfizzbuzzfizzbuzzfizzbuzzfizzbuzzfizzbuzzfizzbuzzfizzbuzzfizzbuzzfizzbuzz\n",
      "fizzfizzfizz\n",
      "buzzbuzzbuzzbuzzbuzz\n",
      "fizzfizzfizz\n"
     ]
    }
   ],
   "source": [
    "fizz=\"fizz\"\n",
    "buzz=\"buzz\"\n",
    "\n",
    "i=1\n",
    "while i<50:\n",
    "    if i%15==0:\n",
    "        print((fizz+buzz)*15)\n",
    "    if i%3==0:\n",
    "        print(fizz*3)\n",
    "    if i%5==0:\n",
    "        print(buzz*5)\n",
    "    i+=1\n",
    "    "
   ]
  },
  {
   "cell_type": "code",
   "execution_count": 23,
   "metadata": {},
   "outputs": [
    {
     "name": "stdout",
     "output_type": "stream",
     "text": [
      "0\n",
      "1\n",
      "1\n",
      "2\n",
      "3\n",
      "5\n",
      "8\n",
      "13\n",
      "21\n",
      "34\n",
      "55\n",
      "89\n",
      "144\n",
      "233\n",
      "377\n",
      "610\n",
      "987\n",
      "1597\n",
      "2584\n",
      "4181\n",
      "6765\n",
      "10946\n",
      "17711\n",
      "28657\n",
      "46368\n",
      "75025\n",
      "121393\n",
      "196418\n",
      "317811\n",
      "514229\n",
      "832040\n",
      "1346269\n",
      "2178309\n",
      "3524578\n",
      "5702887\n",
      "9227465\n",
      "14930352\n",
      "24157817\n",
      "39088169\n",
      "63245986\n",
      "102334155\n",
      "165580141\n",
      "267914296\n",
      "433494437\n",
      "701408733\n",
      "1134903170\n",
      "1836311903\n",
      "2971215073\n",
      "4807526976\n",
      "7778742049\n"
     ]
    }
   ],
   "source": [
    "def  fibonacci(sınır):\n",
    "    sayi1=0\n",
    "    sayi2=1\n",
    "    print(sayi1)\n",
    "    print(sayi2)\n",
    "    i=0\n",
    "    while(i<sinir-2):\n",
    "        sayi3=sayi1+sayi2\n",
    "        print(sayi3)\n",
    "        sayi1=sayi2\n",
    "        sayi2=sayi3\n",
    "        i+=1\n",
    "fibonacci(50)\n",
    "        "
   ]
  },
  {
   "cell_type": "code",
   "execution_count": null,
   "metadata": {},
   "outputs": [],
   "source": []
  }
 ],
 "metadata": {
  "kernelspec": {
   "display_name": "Python 3",
   "language": "python",
   "name": "python3"
  },
  "language_info": {
   "codemirror_mode": {
    "name": "ipython",
    "version": 3
   },
   "file_extension": ".py",
   "mimetype": "text/x-python",
   "name": "python",
   "nbconvert_exporter": "python",
   "pygments_lexer": "ipython3",
   "version": "3.8.3"
  }
 },
 "nbformat": 4,
 "nbformat_minor": 4
}
